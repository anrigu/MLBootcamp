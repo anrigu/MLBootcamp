{
  "cells": [
    {
      "cell_type": "markdown",
      "id": "c0fc8c6d",
      "metadata": {
        "id": "c0fc8c6d"
      },
      "source": [
        "# Exercises to get you used to Python syntax and data processing in Python"
      ]
    },
    {
      "cell_type": "markdown",
      "source": [
        "## Introduction to Python. If you're already familiar with basic Python syntax and data types, feel free to skip this section!\n"
      ],
      "metadata": {
        "id": "TCUA5OUxaCts"
      },
      "id": "TCUA5OUxaCts"
    },
    {
      "cell_type": "markdown",
      "source": [
        "\n",
        "\n",
        "1.   Python Basics and Loops\n",
        "2.   Lists and strings\n",
        "3.   Functions and classes\n",
        "4.   Other data structures\n",
        "\n"
      ],
      "metadata": {
        "id": "6MgoffI9gQXS"
      },
      "id": "6MgoffI9gQXS"
    },
    {
      "cell_type": "code",
      "source": [
        "#Python basics\n",
        "#The first thing you need to understand about Python syntax is indentation matters! Unlike C++ or Java or JS, Python uses indentations as a way to differentiate lines and what functions/classes/conditionals certain lines belong to!\n",
        "\n",
        "#No need to define data types before variables\n",
        "a = 0\n",
        "b = \"Hello\"\n",
        "  #This line would give an error as it's indented for no reason\n",
        "  #j = 1\n",
        "  \n",
        "#Quotes can be either single or double, it doesn't matter unlike C++\n",
        "c = 'bye'\n",
        "d = [10,15,20,25,30,35,40]\n",
        "print(b,c)\n",
        "print('\\n')\n",
        "\n",
        "#No need for semi colons. New lines mean a new statement. In addition, no need for curly braces. A colon represents the end of an if/else, for loop, while loop etc.\n",
        "c = False\n",
        "# c = True\n",
        "#No need for parentheses around conditions either\n",
        "if c == True:\n",
        "  print(\"Hello\")\n",
        "else:\n",
        "  print(\"Bye\")\n",
        "\n",
        "\n",
        "#Loops\n",
        "print(\"\\nFOR LOOP INDEX-BASED\")\n",
        "#For loop\n",
        "#Equivalent C++ Syntax: for (int i = 0; i < d.size(); i++)\n",
        "for i in range(0, len(d)):\n",
        "  print(d[i])\n",
        "\n",
        "print(\"\\nFOR LOOP W/OUT INDEX\")\n",
        "#You can also loop without an index iterator\n",
        "#Equivalent C++ Syntax: for (int val : d)\n",
        "for val in d:\n",
        "  print(val)\n",
        "\n",
        "print(\"\\nWHILE LOOP EX1\")\n",
        "#While loop\n",
        "i = 0\n",
        "#Effectively same as the first for loop.\n",
        "while i < len(d):\n",
        "  print(d[i])\n",
        "  i += 1\n",
        "\n",
        "print(\"\\nWHILE LOOP EX2\")\n",
        "while len(d) > 0:\n",
        "  #Deletes the last element of the list\n",
        "  print(d.pop(-1))\n",
        "  "
      ],
      "metadata": {
        "colab": {
          "base_uri": "https://localhost:8080/"
        },
        "id": "On5rmhIAYiAM",
        "outputId": "5774762c-1894-4d2d-ec74-d15c4fc56542"
      },
      "id": "On5rmhIAYiAM",
      "execution_count": null,
      "outputs": [
        {
          "output_type": "stream",
          "name": "stdout",
          "text": [
            "Hello bye\n",
            "\n",
            "\n",
            "10\n",
            "15\n",
            "20\n",
            "25\n",
            "30\n",
            "35\n",
            "40\n",
            "\n",
            "FOR LOOP INDEX-BASED\n",
            "10\n",
            "15\n",
            "20\n",
            "25\n",
            "30\n",
            "35\n",
            "40\n",
            "\n",
            "FOR LOOP W/OUT INDEX \n",
            "10\n",
            "15\n",
            "20\n",
            "25\n",
            "30\n",
            "35\n",
            "40\n",
            "\n",
            "WHILE LOOP EX1 \n",
            "10\n",
            "15\n",
            "20\n",
            "25\n",
            "30\n",
            "35\n",
            "40\n",
            "\n",
            "WHILE LOOP EX2\n",
            "40\n",
            "35\n",
            "30\n",
            "25\n",
            "20\n",
            "15\n",
            "10\n"
          ]
        }
      ]
    },
    {
      "cell_type": "code",
      "execution_count": null,
      "metadata": {
        "colab": {
          "base_uri": "https://localhost:8080/"
        },
        "id": "082b7fff",
        "outputId": "79b5d689-358d-45c3-c4e8-c8a504fb7984"
      },
      "outputs": [
        {
          "output_type": "stream",
          "name": "stdout",
          "text": [
            "[1, 'HELLO', True]\n",
            "[1, 2, 3, 4, 5, 6]\n",
            "[1, 2, 3, 4, 5, 6, 7, 8, 9, 10]\n",
            "10\n",
            "1\n",
            "10\n",
            "H\n",
            "['--', 'Atlas', 'Digital', '--', 'is', 'better', 'than', '--', 'Atlas', 'Strategy', '--']\n",
            "['', ' Atlas Digital ', ' is better than ', ' Atlas Strategy ', '']\n"
          ]
        }
      ],
      "source": [
        "# Lists (equivalent to a vectory in C++. Can be increased in size and decreased in size):\n",
        "# Don't worry about arrays when dealing w/ python. Think of arrays and lists as the same thing unlike in C++ where arrays and vectors are different.\n",
        "a = [1, 2, 3, 4, 5, 6]\n",
        "\n",
        "# You can even have multiple data types in the same list although this is unadvisable.\n",
        "lst = [1, \"HELLO\", True]\n",
        "print(lst)\n",
        "\n",
        "#Python is incredibly flexible in that you can just print a list and it'll print it all nicely. No more loops just to print a container!\n",
        "print(a)\n",
        "\n",
        "# get a list containing the last 3 elements of a. This is called splicing. The syntax is a[startIndex: endIndex + 1]. It'll get the values from the startIndex (inclusive) to the endIndex (non-inclusive)\n",
        "b = a[3: 6]\n",
        "# If you don't specify an end index to the splice, it'll assume you mean \"go to the end of the list\"\n",
        "d = a[3:]\n",
        "# Same goes for not specifying the start index. If you want to see what this returns, feel free to add a print statement!\n",
        "e = a[:len(a)]\n",
        "\n",
        "c = [10,9,8,7,6,5,4,3,2,1]\n",
        "#sorted will sort c but won't change the initial value of c unless assigned back into c. \n",
        "print(sorted(c))\n",
        "\n",
        "#Indexing works the same way\n",
        "print(c[0])\n",
        "\n",
        "# -1 index represents the LAST element. No need to do length - 1.\n",
        "print(c[-1])\n",
        "\n",
        "#len(c) is length of object\n",
        "print(len(c))\n",
        "\n",
        "#Strings\n",
        "c = \"HELLO!\"\n",
        "#First character of c\n",
        "print(c[0])\n",
        "intStr = \"123\"\n",
        "\n",
        "#Casts intStr into an int\n",
        "intVersion = int(intStr)\n",
        "\n",
        "#Casts int into str\n",
        "intStr = str(intVersion)\n",
        "\n",
        "sentence = \"-- Atlas Digital -- is better than -- Atlas Strategy --\"\n",
        "#Split is a very useful built-in function that can split a string by a delimiter. For example, the default delimiter is a space, meaning it'll create a list with each word based on spacing!\n",
        "print(sentence.split())\n",
        "#This would split the string by --\n",
        "print(sentence.split(\"--\"))"
      ],
      "id": "082b7fff"
    },
    {
      "cell_type": "code",
      "source": [
        "#Functions\n",
        "#Defined with a def as the key word. Remember there's no need to type things, but if you'd like, Python 3.10.7 does support typing as shown below.\n",
        "\n",
        "#This is ok\n",
        "def atlasDigital(project1, project2):\n",
        "  print(\"We have so many projects\")\n",
        "\n",
        "#This is also ok (if you have Python >3.10.7)\n",
        "def atlasDigital(project1 : str, project2 : str) -> bool:\n",
        "  print(\"This is really cool!\")\n",
        "\n",
        "\n",
        "# Classes\n",
        "# One key note about python is that it supports functional programming. This means you don't have to encapsulate everything in a class unlike C++ or Java. \n",
        "# But it does also support Object Oriented Programming so if you'd like to create classes...\n",
        "\n",
        "class Atlas:\n",
        "  def __init__(self, param1):\n",
        "    #This is the constructor. The function name is __init__ and for any function in the class, the first param must be \"self\".\n",
        "    #To access/create member variables, use self.[member variable]\n",
        "    self.projects = param1\n",
        "\n",
        "  #Effectively, this member function has no parameters. self is just a way for the computer to know that this function is part of the Atlas class. \n",
        "  def func1(self):\n",
        "    print(self.projects)\n",
        "  \n",
        "\n",
        "#To create an instance of a class w/ a passed in value for the constructor\n",
        "umichAtlas = Atlas(\"CantooAI\")\n",
        "#To call a member variable\n",
        "umichAtlas.func1();\n",
        "#Loops\n"
      ],
      "metadata": {
        "colab": {
          "base_uri": "https://localhost:8080/"
        },
        "id": "pBYa7zg1cJrE",
        "outputId": "3703800b-b6a6-46af-efed-a88553858f0d"
      },
      "id": "pBYa7zg1cJrE",
      "execution_count": null,
      "outputs": [
        {
          "output_type": "stream",
          "name": "stdout",
          "text": [
            "CantooAI\n"
          ]
        }
      ]
    },
    {
      "cell_type": "code",
      "source": [
        "#Initialized with curly braces. You can also initialize it with key-value pairs.\n",
        "dict = {}\n",
        "filledDict = {\"Hello\":1, \"Bye\":2}\n",
        "\n",
        "#To access a value of a dict, use the indexing syntax with the index as the key.\n",
        "print(filledDict[\"Hello\"])\n",
        "\n",
        "\n",
        "#Dictionary keys. To convert it to a list, just cast it to a list\n",
        "print(list(filledDict.keys()))\n",
        "\n",
        "#To add a key-value pair...\n",
        "filledDict[\"newKey\"] = 3\n",
        "\n",
        "if \"newKey\" in filledDict:\n",
        "  print(\"newKey is a key\")\n",
        "else:\n",
        "  print(\"It ain't a key.\")\n",
        "\n",
        "print(filledDict)"
      ],
      "metadata": {
        "colab": {
          "base_uri": "https://localhost:8080/"
        },
        "id": "4I1nUnN9abnd",
        "outputId": "83ee13d0-b949-43da-d920-2ae0be071dab"
      },
      "id": "4I1nUnN9abnd",
      "execution_count": null,
      "outputs": [
        {
          "output_type": "stream",
          "name": "stdout",
          "text": [
            "1\n",
            "['Hello', 'Bye']\n",
            "newKey is a key\n",
            "{'Hello': 1, 'Bye': 2, 'newKey': 3}\n"
          ]
        }
      ]
    },
    {
      "cell_type": "code",
      "execution_count": null,
      "id": "13c92519",
      "metadata": {
        "id": "13c92519"
      },
      "outputs": [],
      "source": []
    }
  ],
  "metadata": {
    "kernelspec": {
      "display_name": "Python 3",
      "language": "python",
      "name": "python3"
    },
    "language_info": {
      "codemirror_mode": {
        "name": "ipython",
        "version": 3
      },
      "file_extension": ".py",
      "mimetype": "text/x-python",
      "name": "python",
      "nbconvert_exporter": "python",
      "pygments_lexer": "ipython3",
      "version": "3.8.8"
    },
    "colab": {
      "provenance": []
    }
  },
  "nbformat": 4,
  "nbformat_minor": 5
}