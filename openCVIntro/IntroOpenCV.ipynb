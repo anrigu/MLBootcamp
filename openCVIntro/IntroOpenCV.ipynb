{
  "nbformat": 4,
  "nbformat_minor": 0,
  "metadata": {
    "colab": {
      "provenance": []
    },
    "kernelspec": {
      "name": "python3",
      "display_name": "Python 3"
    },
    "language_info": {
      "name": "python"
    }
  },
  "cells": [
    {
      "cell_type": "markdown",
      "source": [
        "# Introduction to OpenCV\n",
        "\n",
        "### Welcome to the interesting tutorial. I'll be doing a short intro into OpenCV and gaining access to your webcam!\n",
        "\n",
        "_**Important note. Run the following code in Pycharm or your local environment. Google Colab doesn't support video capture and access to webcams (there are ways to workaround this but it's not worth learning because we likely won't be working in Google Colab anyway.)**_"
      ],
      "metadata": {
        "id": "0K4_Uz5eQCDg"
      }
    },
    {
      "cell_type": "code",
      "execution_count": 7,
      "metadata": {
        "colab": {
          "base_uri": "https://localhost:8080/",
          "height": 357
        },
        "id": "_UiUbPlQP_Za",
        "outputId": "843e1316-e290-4368-b3d7-5b8295cc7a6b"
      },
      "outputs": [
        {
          "output_type": "error",
          "ename": "AttributeError",
          "evalue": "ignored",
          "traceback": [
            "\u001b[0;31m---------------------------------------------------------------------------\u001b[0m",
            "\u001b[0;31mAttributeError\u001b[0m                            Traceback (most recent call last)",
            "\u001b[0;32m<ipython-input-7-6b923dba270a>\u001b[0m in \u001b[0;36m<module>\u001b[0;34m\u001b[0m\n\u001b[1;32m      7\u001b[0m \u001b[0;32mwhile\u001b[0m \u001b[0;32mTrue\u001b[0m\u001b[0;34m:\u001b[0m\u001b[0;34m\u001b[0m\u001b[0;34m\u001b[0m\u001b[0m\n\u001b[1;32m      8\u001b[0m     \u001b[0msuccess\u001b[0m\u001b[0;34m,\u001b[0m \u001b[0mimg\u001b[0m \u001b[0;34m=\u001b[0m \u001b[0mcap\u001b[0m\u001b[0;34m.\u001b[0m\u001b[0mread\u001b[0m\u001b[0;34m(\u001b[0m\u001b[0;34m)\u001b[0m\u001b[0;34m\u001b[0m\u001b[0;34m\u001b[0m\u001b[0m\n\u001b[0;32m----> 9\u001b[0;31m     \u001b[0mcv2_imshow\u001b[0m\u001b[0;34m(\u001b[0m\u001b[0mimg\u001b[0m\u001b[0;34m)\u001b[0m\u001b[0;34m\u001b[0m\u001b[0;34m\u001b[0m\u001b[0m\n\u001b[0m\u001b[1;32m     10\u001b[0m     \u001b[0;32mif\u001b[0m \u001b[0mcv2\u001b[0m\u001b[0;34m.\u001b[0m\u001b[0mwaitKey\u001b[0m\u001b[0;34m(\u001b[0m\u001b[0;36m1\u001b[0m\u001b[0;34m)\u001b[0m \u001b[0;34m&\u001b[0m \u001b[0;36m0xFF\u001b[0m \u001b[0;34m==\u001b[0m \u001b[0mord\u001b[0m\u001b[0;34m(\u001b[0m\u001b[0;34m'q'\u001b[0m\u001b[0;34m)\u001b[0m\u001b[0;34m:\u001b[0m\u001b[0;34m\u001b[0m\u001b[0;34m\u001b[0m\u001b[0m\n\u001b[1;32m     11\u001b[0m         \u001b[0;32mbreak\u001b[0m\u001b[0;34m\u001b[0m\u001b[0;34m\u001b[0m\u001b[0m\n",
            "\u001b[0;32m/usr/local/lib/python3.7/dist-packages/google/colab/patches/__init__.py\u001b[0m in \u001b[0;36mcv2_imshow\u001b[0;34m(a)\u001b[0m\n\u001b[1;32m     16\u001b[0m       \u001b[0mimage\u001b[0m\u001b[0;34m.\u001b[0m\u001b[0;34m\u001b[0m\u001b[0;34m\u001b[0m\u001b[0m\n\u001b[1;32m     17\u001b[0m   \"\"\"\n\u001b[0;32m---> 18\u001b[0;31m   \u001b[0ma\u001b[0m \u001b[0;34m=\u001b[0m \u001b[0ma\u001b[0m\u001b[0;34m.\u001b[0m\u001b[0mclip\u001b[0m\u001b[0;34m(\u001b[0m\u001b[0;36m0\u001b[0m\u001b[0;34m,\u001b[0m \u001b[0;36m255\u001b[0m\u001b[0;34m)\u001b[0m\u001b[0;34m.\u001b[0m\u001b[0mastype\u001b[0m\u001b[0;34m(\u001b[0m\u001b[0;34m'uint8'\u001b[0m\u001b[0;34m)\u001b[0m\u001b[0;34m\u001b[0m\u001b[0;34m\u001b[0m\u001b[0m\n\u001b[0m\u001b[1;32m     19\u001b[0m   \u001b[0;31m# cv2 stores colors as BGR; convert to RGB\u001b[0m\u001b[0;34m\u001b[0m\u001b[0;34m\u001b[0m\u001b[0;34m\u001b[0m\u001b[0m\n\u001b[1;32m     20\u001b[0m   \u001b[0;32mif\u001b[0m \u001b[0ma\u001b[0m\u001b[0;34m.\u001b[0m\u001b[0mndim\u001b[0m \u001b[0;34m==\u001b[0m \u001b[0;36m3\u001b[0m\u001b[0;34m:\u001b[0m\u001b[0;34m\u001b[0m\u001b[0;34m\u001b[0m\u001b[0m\n",
            "\u001b[0;31mAttributeError\u001b[0m: 'NoneType' object has no attribute 'clip'"
          ]
        }
      ],
      "source": [
        "#After you install OpenCV-python into Pycharm, you'll gain access to a library called cv2.\n",
        "import cv2\n",
        "import numpy as np\n",
        "# The parameter (0 in this case) represents which webcam you want to connect to. WRITE 0 in cases where you only have one webcam (which is most situations)\n",
        "# If you had more than one webcam connected, you could use 1, 2, 3 etc. to access each one.\n",
        "# You could also put a path to a video in the parameters. For example './funnyvideo.mp4'\n",
        "\n",
        "cap = cv2.VideoCapture(0)\n",
        "width = int(cap.get(3))\n",
        "height = int(cap.get(4))\n",
        "\n",
        "#Infinite loop to continue keeping the connection to the webcam open\n",
        "while True:\n",
        "    #Success = whether or not data read is successful\n",
        "    #Image = the frame that's captured\n",
        "    success, img = cap.read()\n",
        "    cv2.imshow(\"Video\", img)\n",
        "    image = np.zeros(img.shape, np.uint8)\n",
        "    #Essentially splits the image frame into 4 boxes\n",
        "    smaller_frame = cv2.resize(img, (0, 0), fx=0.5, fy=0.5)\n",
        "    #The // means INTEGER DIVISION. Essentially it rounds down to keep numbers as integers. 5 // 2 = 2\n",
        "    image[:height // 2, :width // 2] = smaller_frame\n",
        "    image[height // 2:, :width // 2] = smaller_frame\n",
        "    image[:height // 2, width // 2:] = smaller_frame\n",
        "    image[height // 2:, width // 2:] = smaller_frame\n",
        "\n",
        "    cv2.imshow('frame', image)\n",
        "    #Essentially, if you press q, the loop will break and the video capture will end.\n",
        "    if cv2.waitKey(1) == ord('q'):\n",
        "        break\n",
        "#Releases camera to be used by other applications\n",
        "cap.release()"
      ]
    }
  ]
}