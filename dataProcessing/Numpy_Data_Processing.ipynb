{
  "nbformat": 4,
  "nbformat_minor": 0,
  "metadata": {
    "colab": {
      "provenance": []
    },
    "kernelspec": {
      "name": "python3",
      "display_name": "Python 3"
    },
    "language_info": {
      "name": "python"
    }
  },
  "cells": [
    {
      "cell_type": "markdown",
      "source": [
        "# Numpy and Data Processing using Pandas\n",
        "### Numpy - a framework that imports lots of mathematical features (special functions etc.)\n",
        "### Pandas - a framework for data processing. It has a lot of features that allow for importing and reading of csv files and plotting that data\n",
        "\n",
        "I'll be going over these two libraries in this module. I wouldn't worry too much about this module EXCEPT for the one section on data uploading (which I labelled below). We probably won't be using it that much for this project but it's still a very useful library for ML applications, so I'll just add a quick intro for it here."
      ],
      "metadata": {
        "id": "vbyj3HCBjGl9"
      }
    },
    {
      "cell_type": "markdown",
      "source": [
        "## Numpy"
      ],
      "metadata": {
        "id": "J6LETywOk0di"
      }
    },
    {
      "cell_type": "code",
      "execution_count": null,
      "metadata": {
        "id": "f8505d19"
      },
      "outputs": [],
      "source": [
        "# create a numpy array from this list\n",
        "import numpy as np\n",
        "''' How is this different from a normal python list? Numpy arrays are generally faster when it comes to manipulating them. \n",
        "If you want to represent a matrix (If you haven't taken linear algebra, then don't worry about this!) and then want to transpose it or find the dot product you can do so through built-in\n",
        "functions available through numpy. \n",
        "'''\n",
        "a = [1,2,3,4,5]\n",
        "b = np.array(a) "
      ]
    },
    {
      "cell_type": "code",
      "execution_count": null,
      "metadata": {
        "id": "cf878d4b",
        "outputId": "ffd07ce1-0cca-4c10-f55a-c685faa4b168"
      },
      "outputs": [
        {
          "name": "stdout",
          "output_type": "stream",
          "text": [
            "3.5\n"
          ]
        }
      ],
      "source": [
        "# find the mean of b\n",
        "mean_b = np.mean(b)\n",
        "print(mean_b)"
      ]
    },
    {
      "cell_type": "code",
      "execution_count": null,
      "metadata": {
        "id": "2441ab87",
        "outputId": "4a816f98-5a6d-4153-c9db-60a72017a382"
      },
      "outputs": [
        {
          "name": "stdout",
          "output_type": "stream",
          "text": [
            "[ 1  4  9 16 25 36]\n"
          ]
        }
      ],
      "source": [
        "# get a list where each entry in b is squared (so the new numpy array is [1, 4, 9, 16, 25, 36])\n",
        "# use a different (numpy-specific) approach\n",
        "d = np.square(b)\n",
        "print(d)"
      ]
    },
    {
      "cell_type": "code",
      "execution_count": null,
      "metadata": {
        "id": "4c84759f",
        "outputId": "a15f1dba-2825-4f8e-e92a-c89ee084048f"
      },
      "outputs": [
        {
          "name": "stdout",
          "output_type": "stream",
          "text": [
            "[[1 2 3]\n",
            " [4 5 6]]\n"
          ]
        }
      ],
      "source": [
        "# change b from a length-6 list to a 2x3 matrix\n",
        "b.resize((2,3))\n",
        "print(b)"
      ]
    },
    {
      "cell_type": "markdown",
      "source": [
        "## Pandas"
      ],
      "metadata": {
        "id": "NTXrRdd8kwoa"
      }
    },
    {
      "cell_type": "markdown",
      "source": [
        "The section below is the only **crucial** one!"
      ],
      "metadata": {
        "id": "lmNvxLc3PxHG"
      }
    },
    {
      "cell_type": "code",
      "execution_count": null,
      "metadata": {
        "id": "f10f5b84",
        "outputId": "32325e0f-07d0-46fb-8719-8af16652b1cd",
        "colab": {
          "base_uri": "https://localhost:8080/"
        }
      },
      "outputs": [
        {
          "output_type": "stream",
          "name": "stdout",
          "text": [
            "         beverage_category       beverage      beverage_prep  calories  \\\n",
            "0                   coffee  brewed coffee              Short         3   \n",
            "1                   coffee  brewed coffee               Tall         4   \n",
            "2                   coffee  brewed coffee             Grande         5   \n",
            "3                   coffee  brewed coffee              Venti         5   \n",
            "4  classic espresso drinks     caff latte  Short Nonfat Milk        70   \n",
            "\n",
            "   total fat  trans fat  saturated fat  sodium  total carbohydrates  \\\n",
            "0        0.1        0.0            0.0       0                    5   \n",
            "1        0.1        0.0            0.0       0                   10   \n",
            "2        0.1        0.0            0.0       0                   10   \n",
            "3        0.1        0.0            0.0       0                   10   \n",
            "4        0.1        0.1            0.0       5                   75   \n",
            "\n",
            "   cholesterol  dietary fibre  sugars  protein  vitamin a  vitamin c  calcium  \\\n",
            "0            0              0       0      0.3          0          0        0   \n",
            "1            0              0       0      0.5          0          0        0   \n",
            "2            0              0       0      1.0          0          0        0   \n",
            "3            0              0       0      1.0          0          0        2   \n",
            "4           10              0       9      6.0         10          0       20   \n",
            "\n",
            "   iron  caffeine  \n",
            "0   0.0     175.0  \n",
            "1   0.0     260.0  \n",
            "2   0.0     330.0  \n",
            "3   0.0     410.0  \n",
            "4   0.0      75.0  \n"
          ]
        }
      ],
      "source": [
        "# load in the \"starbucks.csv\" dataset\n",
        "# This import statement imports the pandas library and creates an alias \"pd\" so that whenever you want to use it, you can say pd.[command] instead of pandas.[command]\n",
        "import pandas as pd\n",
        "import os\n",
        "data = pd.read_csv('./sample_data/starbucks.csv')\n",
        "# Prints a preview of the data (i.e. the first 5 data entries)\n",
        "print(data.head())"
      ]
    },
    {
      "cell_type": "code",
      "execution_count": null,
      "metadata": {
        "id": "012b042d",
        "outputId": "15d419b7-701a-49b0-c604-c34ee413e1d0",
        "colab": {
          "base_uri": "https://localhost:8080/"
        }
      },
      "outputs": [
        {
          "output_type": "stream",
          "name": "stdout",
          "text": [
            "average calories across all items is:  193.87190082644628\n"
          ]
        }
      ],
      "source": [
        "# what is the average # calories across all items?\n",
        "avg_cals = data[\"calories\"].mean()\n",
        "print(\"average calories across all items is: \", avg_cals)"
      ]
    },
    {
      "cell_type": "code",
      "execution_count": null,
      "metadata": {
        "id": "3d8eee64",
        "outputId": "4ba99c54-b355-4200-ba07-595eba01eaef",
        "colab": {
          "base_uri": "https://localhost:8080/"
        }
      },
      "outputs": [
        {
          "output_type": "stream",
          "name": "stdout",
          "text": [
            "diff categories of beverages:  9\n"
          ]
        }
      ],
      "source": [
        "# how many different categories of beverages are there?\n",
        "diff_cats = data[\"beverage_category\"].unique()\n",
        "print(\"diff categories of beverages: \", len(diff_cats))"
      ]
    },
    {
      "cell_type": "code",
      "execution_count": null,
      "metadata": {
        "id": "23ddaf89",
        "outputId": "939b381f-9307-457d-d95c-8952c6c06bfa",
        "colab": {
          "base_uri": "https://localhost:8080/",
          "height": 296
        }
      },
      "outputs": [
        {
          "output_type": "execute_result",
          "data": {
            "text/plain": [
              "<matplotlib.axes._subplots.AxesSubplot at 0x7f8feee1cf50>"
            ]
          },
          "metadata": {},
          "execution_count": 10
        },
        {
          "output_type": "display_data",
          "data": {
            "text/plain": [
              "<Figure size 432x288 with 1 Axes>"
            ],
            "image/png": "[encoded data removed]"
          },
          "metadata": {
            "needs_background": "light"
          }
        }
      ],
      "source": [
        "# plot the distribution of the number of calories in drinks using matplotlib\n",
        "import matplotlib as plt\n",
        "data.plot.scatter( x='beverage', y='calories')"
      ]
    },
    {
      "cell_type": "code",
      "execution_count": null,
      "metadata": {
        "id": "90e01b91",
        "outputId": "f2c0aeb2-1362-44e7-c40c-341b24a960ac",
        "colab": {
          "base_uri": "https://localhost:8080/",
          "height": 265
        }
      },
      "outputs": [
        {
          "output_type": "display_data",
          "data": {
            "text/plain": [
              "<Figure size 432x288 with 1 Axes>"
            ],
            "image/png": "[encoded data removed]"
          },
          "metadata": {
            "needs_background": "light"
          }
        }
      ],
      "source": [
        "# plot the distribution of calories in Short, Tall, Grande, and Venti drinks\n",
        "# (you can use multiple lines for this)\n",
        "# twist: you should also include the Nonfat Milk drinks that also have an associated size.\n",
        "\n",
        "# you can decide how you want to visualize this. Colors? Small multiples? Density vs histogram?\n",
        "# the starbucks is your oyster.\n",
        "fets = ['Short', 'Tall', 'Grande', 'Venti', 'Short Nonfat Milk', 'Tall Nonfat Milk', 'Grande Nonfat Milk', 'Venti Nonfat Milk']\n",
        "for fet in fets:\n",
        "    data.loc[data['beverage_prep'] == fet][\"calories\"].plot.hist()"
      ]
    }
  ]
}